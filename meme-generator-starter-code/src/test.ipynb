{
 "cells": [
  {
   "cell_type": "code",
   "execution_count": 1,
   "metadata": {},
   "outputs": [],
   "source": [
    "from meme import MemeEngine"
   ]
  },
  {
   "cell_type": "code",
   "execution_count": 2,
   "metadata": {},
   "outputs": [],
   "source": [
    "a = MemeEngine(\"save_data\")"
   ]
  },
  {
   "cell_type": "code",
   "execution_count": 3,
   "metadata": {},
   "outputs": [
    {
     "data": {
      "text/plain": [
       "'save_data/1.jpg'"
      ]
     },
     "execution_count": 3,
     "metadata": {},
     "output_type": "execute_result"
    }
   ],
   "source": [
    "a.make_meme(\"/media/pnt/DATA/Udacity/My-course/python-intermediate-udacity/meme-generator-starter-code/src/_data/photos/dog/xander_3.jpg\",\n",
    "            \"xin chao\",\n",
    "            \"tuan\",\n",
    "            500)"
   ]
  },
  {
   "cell_type": "code",
   "execution_count": 4,
   "metadata": {},
   "outputs": [],
   "source": [
    "import random\n"
   ]
  },
  {
   "cell_type": "code",
   "execution_count": 13,
   "metadata": {},
   "outputs": [
    {
     "data": {
      "text/plain": [
       "42.261977894455946"
      ]
     },
     "execution_count": 13,
     "metadata": {},
     "output_type": "execute_result"
    }
   ],
   "source": [
    "random.random() * 75"
   ]
  },
  {
   "cell_type": "code",
   "execution_count": 4,
   "metadata": {},
   "outputs": [],
   "source": [
    "import os"
   ]
  },
  {
   "cell_type": "code",
   "execution_count": null,
   "metadata": {},
   "outputs": [],
   "source": []
  },
  {
   "cell_type": "code",
   "execution_count": 14,
   "metadata": {},
   "outputs": [
    {
     "name": "stdout",
     "output_type": "stream",
     "text": [
      "/media/pnt/DATA/Udacity/My-course/python-intermediate-udacity/meme-generator-starter-code/src/_data/photos/dog/xander_1.jpg\n",
      "/media/pnt/DATA/Udacity/My-course/python-intermediate-udacity/meme-generator-starter-code/src/_data/photos/dog/xander_2.jpg\n",
      "/media/pnt/DATA/Udacity/My-course/python-intermediate-udacity/meme-generator-starter-code/src/_data/photos/dog/xander_3.jpg\n",
      "/media/pnt/DATA/Udacity/My-course/python-intermediate-udacity/meme-generator-starter-code/src/_data/photos/dog/xander_4.jpg\n"
     ]
    }
   ],
   "source": [
    "import glob\n",
    "\n",
    "for name in glob.glob('/media/pnt/DATA/Udacity/My-course/python-intermediate-udacity/meme-generator-starter-code/src/_data/**/*.jpg',recursive=True): \n",
    "    print(name) "
   ]
  },
  {
   "cell_type": "code",
   "execution_count": null,
   "metadata": {},
   "outputs": [],
   "source": []
  }
 ],
 "metadata": {
  "kernelspec": {
   "display_name": "base",
   "language": "python",
   "name": "python3"
  },
  "language_info": {
   "codemirror_mode": {
    "name": "ipython",
    "version": 3
   },
   "file_extension": ".py",
   "mimetype": "text/x-python",
   "name": "python",
   "nbconvert_exporter": "python",
   "pygments_lexer": "ipython3",
   "version": "3.9.12"
  }
 },
 "nbformat": 4,
 "nbformat_minor": 2
}
