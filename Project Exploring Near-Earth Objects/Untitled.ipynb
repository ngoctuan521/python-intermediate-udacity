{
 "cells": [
  {
   "cell_type": "code",
   "execution_count": 1,
   "id": "9f557826-cca6-4403-af1b-295f35bc3d97",
   "metadata": {},
   "outputs": [],
   "source": [
    "from database import NEODatabase\n",
    "from extract import load_neos, load_approaches"
   ]
  },
  {
   "cell_type": "code",
   "execution_count": 2,
   "id": "7b82e246-17a5-4a75-9490-85e6418c316d",
   "metadata": {},
   "outputs": [],
   "source": [
    "neos = load_neos(\"data/neos.csv\")\n",
    "appr = load_approaches(\"data/cad.json\")"
   ]
  },
  {
   "cell_type": "code",
   "execution_count": 28,
   "id": "4a5514df-e787-47e6-b828-f832804b2b0c",
   "metadata": {
    "tags": []
   },
   "outputs": [],
   "source": [
    "\n",
    "a = NEODatabase(neos, appr)"
   ]
  },
  {
   "cell_type": "code",
   "execution_count": 24,
   "id": "3db38375-ff1c-4b9f-80da-c3b9cd81b1fd",
   "metadata": {
    "tags": []
   },
   "outputs": [],
   "source": [
    "import operator\n",
    "\n",
    "\n",
    "class UnsupportedCriterionError(NotImplementedError):\n",
    "    \"\"\"A filter criterion is unsupported.\"\"\"\n",
    "\n",
    "\n",
    "class AttributeFilter:\n",
    "    \"\"\"A general superclass for filters on comparable attributes.\n",
    "\n",
    "    An `AttributeFilter` represents the search criteria pattern comparing some\n",
    "    attribute of a close approach (or its attached NEO) to a reference value. It\n",
    "    essentially functions as a callable predicate for whether a `CloseApproach`\n",
    "    object satisfies the encoded criterion.\n",
    "\n",
    "    It is constructed with a comparator operator and a reference value, and\n",
    "    calling the filter (with __call__) executes `get(approach) OP value` (in\n",
    "    infix notation).\n",
    "\n",
    "    Concrete subclasses can override the `get` classmethod to provide custom\n",
    "    behavior to fetch a desired attribute from the given `CloseApproach`.\n",
    "    \"\"\"\n",
    "    def __init__(self, op, value):\n",
    "        \"\"\"Construct a new `AttributeFilter` from an binary predicate and a reference value.\n",
    "\n",
    "        The reference value will be supplied as the second (right-hand side)\n",
    "        argument to the operator function. For example, an `AttributeFilter`\n",
    "        with `op=operator.le` and `value=10` will, when called on an approach,\n",
    "        evaluate `some_attribute <= 10`.\n",
    "\n",
    "        :param op: A 2-argument predicate comparator (such as `operator.le`).\n",
    "        :param value: The reference value to compare against.\n",
    "        \"\"\"\n",
    "        self.op = op\n",
    "        self.value = value\n",
    "\n",
    "    def __call__(self, approach):\n",
    "        \"\"\"Invoke `self(approach)`.\"\"\"\n",
    "        return self.op(self.get(approach), self.value)\n",
    "\n",
    "    @classmethod\n",
    "    def get(cls, approach):\n",
    "        \"\"\"Get an attribute of interest from a close approach.\n",
    "\n",
    "        Concrete subclasses must override this method to get an attribute of\n",
    "        interest from the supplied `CloseApproach`.\n",
    "\n",
    "        :param approach: A `CloseApproach` on which to evaluate this filter.\n",
    "        :return: The value of an attribute of interest, comparable to `self.value` via `self.op`.\n",
    "        \"\"\"\n",
    "        raise UnsupportedCriterionError\n",
    "\n",
    "    def __repr__(self):\n",
    "        return f\"{self.__class__.__name__}(op=operator.{self.op.__name__}, value={self.value})\"\n",
    "\n",
    "class DistanceFilter(AttributeFilter):\n",
    "    @classmethod\n",
    "    def get(cls, approach):\n",
    "        return approach.distance"
   ]
  },
  {
   "cell_type": "code",
   "execution_count": 25,
   "id": "1c1fc875-6963-4191-9dd1-b69d412af9f9",
   "metadata": {},
   "outputs": [],
   "source": [
    "distance_min = 0.2"
   ]
  },
  {
   "cell_type": "code",
   "execution_count": null,
   "id": "d74c3ad3-e74e-4500-b670-11e74edf6cc1",
   "metadata": {},
   "outputs": [],
   "source": [
    "map()"
   ]
  },
  {
   "cell_type": "code",
   "execution_count": 27,
   "id": "4ee87038-1140-47dd-89e5-8913c933346f",
   "metadata": {},
   "outputs": [
    {
     "ename": "AttributeError",
     "evalue": "'NEODatabase' object has no attribute 'distance'",
     "output_type": "error",
     "traceback": [
      "\u001b[0;31m---------------------------------------------------------------------------\u001b[0m",
      "\u001b[0;31mAttributeError\u001b[0m                            Traceback (most recent call last)",
      "Input \u001b[0;32mIn [27]\u001b[0m, in \u001b[0;36m<cell line: 4>\u001b[0;34m()\u001b[0m\n\u001b[1;32m      1\u001b[0m \u001b[38;5;66;03m# results = []\u001b[39;00m\n\u001b[1;32m      2\u001b[0m \u001b[38;5;66;03m# if distance_min:\u001b[39;00m\n\u001b[1;32m      3\u001b[0m tmp \u001b[38;5;241m=\u001b[39m DistanceFilter(operator\u001b[38;5;241m.\u001b[39mge, \u001b[38;5;241m0.2\u001b[39m)\n\u001b[0;32m----> 4\u001b[0m \u001b[43mtmp\u001b[49m\u001b[43m(\u001b[49m\u001b[43ma\u001b[49m\u001b[43m)\u001b[49m\n",
      "Input \u001b[0;32mIn [24]\u001b[0m, in \u001b[0;36mAttributeFilter.__call__\u001b[0;34m(self, approach)\u001b[0m\n\u001b[1;32m     37\u001b[0m \u001b[38;5;28;01mdef\u001b[39;00m \u001b[38;5;21m__call__\u001b[39m(\u001b[38;5;28mself\u001b[39m, approach):\n\u001b[1;32m     38\u001b[0m     \u001b[38;5;124;03m\"\"\"Invoke `self(approach)`.\"\"\"\u001b[39;00m\n\u001b[0;32m---> 39\u001b[0m     \u001b[38;5;28;01mreturn\u001b[39;00m \u001b[38;5;28mself\u001b[39m\u001b[38;5;241m.\u001b[39mop(\u001b[38;5;28;43mself\u001b[39;49m\u001b[38;5;241;43m.\u001b[39;49m\u001b[43mget\u001b[49m\u001b[43m(\u001b[49m\u001b[43mapproach\u001b[49m\u001b[43m)\u001b[49m, \u001b[38;5;28mself\u001b[39m\u001b[38;5;241m.\u001b[39mvalue)\n",
      "Input \u001b[0;32mIn [24]\u001b[0m, in \u001b[0;36mDistanceFilter.get\u001b[0;34m(cls, approach)\u001b[0m\n\u001b[1;32m     57\u001b[0m \u001b[38;5;129m@classmethod\u001b[39m\n\u001b[1;32m     58\u001b[0m \u001b[38;5;28;01mdef\u001b[39;00m \u001b[38;5;21mget\u001b[39m(\u001b[38;5;28mcls\u001b[39m, approach):\n\u001b[0;32m---> 59\u001b[0m     \u001b[38;5;28;01mreturn\u001b[39;00m \u001b[43mapproach\u001b[49m\u001b[38;5;241;43m.\u001b[39;49m\u001b[43mdistance\u001b[49m\n",
      "\u001b[0;31mAttributeError\u001b[0m: 'NEODatabase' object has no attribute 'distance'"
     ]
    }
   ],
   "source": [
    "# results = []\n",
    "# if distance_min:\n",
    "tmp = DistanceFilter(operator.ge, 0.2)\n",
    "tmp(a)\n",
    "# tmp.get()"
   ]
  },
  {
   "cell_type": "code",
   "execution_count": 16,
   "id": "ca36a111-af2b-4567-8483-7d367edacbfa",
   "metadata": {
    "tags": []
   },
   "outputs": [
    {
     "ename": "TypeError",
     "evalue": "get() missing 1 required positional argument: 'approach'",
     "output_type": "error",
     "traceback": [
      "\u001b[0;31m---------------------------------------------------------------------------\u001b[0m",
      "\u001b[0;31mTypeError\u001b[0m                                 Traceback (most recent call last)",
      "Input \u001b[0;32mIn [16]\u001b[0m, in \u001b[0;36m<cell line: 1>\u001b[0;34m()\u001b[0m\n\u001b[0;32m----> 1\u001b[0m \u001b[43mtmp\u001b[49m\u001b[38;5;241;43m.\u001b[39;49m\u001b[43mget\u001b[49m\u001b[43m(\u001b[49m\u001b[43m)\u001b[49m\n",
      "\u001b[0;31mTypeError\u001b[0m: get() missing 1 required positional argument: 'approach'"
     ]
    }
   ],
   "source": [
    "tmp.get()"
   ]
  },
  {
   "cell_type": "code",
   "execution_count": null,
   "id": "7aff0677-9630-48fd-a7a5-b2aab3811d55",
   "metadata": {},
   "outputs": [],
   "source": []
  }
 ],
 "metadata": {
  "kernelspec": {
   "display_name": "Python 3 (ipykernel)",
   "language": "python",
   "name": "python3"
  },
  "language_info": {
   "codemirror_mode": {
    "name": "ipython",
    "version": 3
   },
   "file_extension": ".py",
   "mimetype": "text/x-python",
   "name": "python",
   "nbconvert_exporter": "python",
   "pygments_lexer": "ipython3",
   "version": "3.9.12"
  }
 },
 "nbformat": 4,
 "nbformat_minor": 5
}
